{
  "cells": [
    {
      "cell_type": "markdown",
      "metadata": {},
      "source": [
        "# Segmentation Modeling\nCluster patients into risk segments."
      ]
    },
    {
      "cell_type": "code",
      "execution_count": null,
      "metadata": {},
      "outputs": [],
      "source": [
        "from sklearn.cluster import KMeans\n",
        "from sklearn.preprocessing import StandardScaler\n",
        "import pandas as pd\n\n",
        "# Load and preprocess data\n",
        "df = pd.read_csv('../data/clinical_financial_data.csv')\n",
        "features = ['Age', 'BMI', 'BloodPressure', 'Glucose', 'Insulin']\n",
        "scaler = StandardScaler()\n",
        "df_scaled = scaler.fit_transform(df[features])\n",
        "kmeans = KMeans(n_clusters=3, random_state=42)\n",
        "df['Segment'] = kmeans.fit_predict(df_scaled)\n",
        "df[['PatientID', 'Segment']].head()"
      ]
    },
    {
      "cell_type": "markdown",
      "metadata": {},
      "source": [
        "## Visualize Patient Segments"
      ]
    },
    {
      "cell_type": "code",
      "execution_count": null,
      "metadata": {},
      "outputs": [],
      "source": [
        "sns.scatterplot(x=df['Age'], y=df['Glucose'], hue=df['Segment'], palette='Set2')\n",
        "plt.title('Patient Segments by Age and Glucose')\n",
        "plt.xlabel('Age')\n",
        "plt.ylabel('Glucose')\n",
        "plt.legend(title='Segment')\n",
        "plt.show()"
      ]
    }
  ],
  "metadata": {},
  "nbformat": 4,
  "nbformat_minor": 5
}